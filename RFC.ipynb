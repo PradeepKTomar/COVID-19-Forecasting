{
 "cells": [
  {
   "cell_type": "code",
   "execution_count": 87,
   "id": "74578f21-d7ee-4887-b48e-c9b25de9ffe3",
   "metadata": {},
   "outputs": [],
   "source": [
    "from sklearn.ensemble import RandomForestClassifier\n",
    "from sklearn.metrics import accuracy_score\n",
    "from sklearn.model_selection import train_test_split, cross_val_predict\n",
    "from sklearn.utils import shuffle\n",
    "import matplotlib .pyplot as plt\n",
    "\n",
    "import cv2\n",
    "import numpy as np\n",
    "import pandas as pd\n",
    "import os"
   ]
  },
  {
   "cell_type": "code",
   "execution_count": 15,
   "id": "cd30ef0e-ea62-4284-afca-6c1d587de74c",
   "metadata": {},
   "outputs": [],
   "source": [
    "# Load the dataset\n",
    "data = \"C:\\\\chest_xray\\\\train\"\n",
    "#classes = os.listdir(data)\n",
    "classes ={'COVID' :0, 'NORMAL':1}\n",
    "X = []\n",
    "y = []\n",
    "for i, class_name in enumerate(classes):\n",
    "    class_dir = os.path.join(data, class_name)\n",
    "    for image_name in os.listdir(class_dir):\n",
    "        image_path = os.path.join(class_dir, image_name)\n",
    "        image = cv2.imread(image_path)\n",
    "        image = cv2.resize(image, (64, 64))  # resize the image to a consistent size\n",
    "        X.append(image)\n",
    "        y.append(i)\n",
    "X = np.array(X)\n",
    "y = np.array(y)"
   ]
  },
  {
   "cell_type": "code",
   "execution_count": null,
   "id": "82587a26-745b-4f8d-895b-3c45a7188c32",
   "metadata": {},
   "outputs": [],
   "source": []
  },
  {
   "cell_type": "code",
   "execution_count": 42,
   "id": "837a95c7-8dc0-4f71-938b-277620b8cbdb",
   "metadata": {},
   "outputs": [
    {
     "data": {
      "text/plain": [
       "(7315, 12288)"
      ]
     },
     "execution_count": 42,
     "metadata": {},
     "output_type": "execute_result"
    }
   ],
   "source": [
    "\n",
    "X_1 = X.reshape((7315, 64*64*3))\n",
    "X_1.shape"
   ]
  },
  {
   "cell_type": "code",
   "execution_count": 45,
   "id": "a6963664-d4d0-432b-b862-2e10d31859b8",
   "metadata": {},
   "outputs": [],
   "source": [
    "# Shuffle and split the dataset into training, validation, and testing sets\n",
    "X, y = shuffle(X_1, y, random_state=42)\n",
    "X_train, X_test, y_train, y_test = train_test_split(X_1, y, test_size=0.2, random_state=42)\n",
    "X_train, X_val, y_train, y_val = train_test_split(X_train, y_train, test_size=0.2, random_state=42)"
   ]
  },
  {
   "cell_type": "code",
   "execution_count": 132,
   "id": "2f182eb8-9736-40d7-9c53-743290a7a973",
   "metadata": {},
   "outputs": [
    {
     "data": {
      "text/plain": [
       "RandomForestClassifier(max_depth=5, min_samples_leaf=5, n_estimators=20,\n",
       "                       random_state=42)"
      ]
     },
     "execution_count": 132,
     "metadata": {},
     "output_type": "execute_result"
    }
   ],
   "source": [
    "# Train the Random Forest model\n",
    "rfm = RandomForestClassifier(n_estimators=20, max_depth=5, min_samples_leaf=5, random_state=42)\n",
    "rfm.fit(X_train, y_train)"
   ]
  },
  {
   "cell_type": "code",
   "execution_count": 133,
   "id": "a5956067-a3ea-41d7-b14e-fba9e8b80dca",
   "metadata": {},
   "outputs": [],
   "source": [
    "y_probas_forest = cross_val_predict(rfm, X_train, y_train, cv=3,\n",
    "                                    method=\"predict_proba\")"
   ]
  },
  {
   "cell_type": "code",
   "execution_count": 134,
   "id": "79ebb2ad-0b0e-42b3-a330-d9df33f74ebf",
   "metadata": {},
   "outputs": [
    {
     "data": {
      "text/plain": [
       "array([[0.67573459, 0.32426541],\n",
       "       [0.56165234, 0.43834766]])"
      ]
     },
     "execution_count": 134,
     "metadata": {},
     "output_type": "execute_result"
    }
   ],
   "source": [
    "y_probas_forest[:2]"
   ]
  },
  {
   "cell_type": "code",
   "execution_count": 135,
   "id": "cbb90296-5386-47d9-8147-47c3a0e1ef2d",
   "metadata": {},
   "outputs": [
    {
     "name": "stdout",
     "output_type": "stream",
     "text": [
      "Validation accuracy: 0.5414175918018788\n"
     ]
    }
   ],
   "source": [
    "# Evaluate the model on the validation set\n",
    "y_val_pred = rfm.predict(X_val)\n",
    "val_accuracy = accuracy_score(y_val, y_val_pred)\n",
    "print(\"Validation accuracy:\", val_accuracy)"
   ]
  },
  {
   "cell_type": "code",
   "execution_count": 136,
   "id": "7dfea503-ee63-4fe5-903c-6b07035d88c9",
   "metadata": {},
   "outputs": [
    {
     "name": "stdout",
     "output_type": "stream",
     "text": [
      "Test accuracy: 0.5208475734791524\n"
     ]
    }
   ],
   "source": [
    "# Test the model on the testing set\n",
    "y_test_pred = rfm.predict(X_test)\n",
    "test_accuracy = accuracy_score(y_test, y_test_pred)\n",
    "print(\"Test accuracy:\", test_accuracy)\n"
   ]
  },
  {
   "cell_type": "code",
   "execution_count": null,
   "id": "14025f1d-bcc3-467f-bb10-ff7b9bd24ff2",
   "metadata": {},
   "outputs": [],
   "source": []
  },
  {
   "cell_type": "code",
   "execution_count": null,
   "id": "03409a31-38e9-4ef1-bdf2-1866daf277a4",
   "metadata": {},
   "outputs": [],
   "source": []
  }
 ],
 "metadata": {
  "kernelspec": {
   "display_name": "Python 3 (ipykernel)",
   "language": "python",
   "name": "python3"
  },
  "language_info": {
   "codemirror_mode": {
    "name": "ipython",
    "version": 3
   },
   "file_extension": ".py",
   "mimetype": "text/x-python",
   "name": "python",
   "nbconvert_exporter": "python",
   "pygments_lexer": "ipython3",
   "version": "3.9.7"
  }
 },
 "nbformat": 4,
 "nbformat_minor": 5
}
