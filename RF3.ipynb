{
  "nbformat": 4,
  "nbformat_minor": 0,
  "metadata": {
    "colab": {
      "provenance": []
    },
    "kernelspec": {
      "name": "python3",
      "display_name": "Python 3"
    },
    "language_info": {
      "name": "python"
    }
  },
  "cells": [
    {
      "cell_type": "code",
      "execution_count": 1,
      "metadata": {
        "id": "0W7xhy_bzUsk"
      },
      "outputs": [],
      "source": [
        "from numpy import asarray\n",
        "from pandas import read_csv\n",
        "from pandas import DataFrame\n",
        "from pandas import concat\n",
        "from sklearn.metrics import mean_absolute_error\n",
        "from sklearn.ensemble import RandomForestRegressor\n",
        "from matplotlib import pyplot"
      ]
    },
    {
      "cell_type": "code",
      "source": [
        "# transform a time series dataset into a supervised learning dataset\n",
        "def series_to_supervised(data, n_in=1, n_out=1, dropnan=True):\n",
        "    n_vars = 1 if type(data) is list else data.shape[1]\n",
        "    df = DataFrame(data)\n",
        "    cols = list()\n",
        "    # input sequence (t-n, ... t-1)\n",
        "    for i in range(n_in, 0, -1):\n",
        "        cols.append(df.shift(i))\n",
        "    # forecast sequence (t, t+1, ... t+n)\n",
        "    for i in range(0, n_out):\n",
        "        cols.append(df.shift(-i))\n",
        "    # put it all together\n",
        "    agg = concat(cols, axis=1)\n",
        "    # drop rows with NaN values\n",
        "    if dropnan:\n",
        "        agg.dropna(inplace=True)\n",
        "    return agg.values"
      ],
      "metadata": {
        "id": "mGh3nm1qza4I"
      },
      "execution_count": 2,
      "outputs": []
    },
    {
      "cell_type": "code",
      "source": [
        "# split a univariate dataset into train/test sets\n",
        "def train_test_split(data, n_test):\n",
        "    return data[:-n_test, :], data[-n_test:, :]"
      ],
      "metadata": {
        "id": "aetvDn-uzef-"
      },
      "execution_count": 3,
      "outputs": []
    },
    {
      "cell_type": "code",
      "source": [
        "# fit an random forest model and make a one step prediction\n",
        "def random_forest_forecast(train, testX):\n",
        "    # transform list into array\n",
        "    train = asarray(train)\n",
        "    # split into input and output columns\n",
        "    trainX, trainy = train[:, :-1], train[:, -1]\n",
        "    # fit model\n",
        "    model = RandomForestRegressor(n_estimators=1000)\n",
        "    model.fit(trainX, trainy)\n",
        "    # make a one-step prediction\n",
        "    yhat = model.predict([testX])\n",
        "    return yhat[0]"
      ],
      "metadata": {
        "id": "hkQ-B5m5zjIW"
      },
      "execution_count": 4,
      "outputs": []
    },
    {
      "cell_type": "code",
      "source": [
        "# walk-forward validation for univariate data\n",
        "def walk_forward_validation(data, n_test):\n",
        "    predictions = list()\n",
        "    # split dataset\n",
        "    train, test = train_test_split(data, n_test)\n",
        "    # seed history with training dataset\n",
        "    history = [x for x in train]\n",
        "    # step over each time-step in the test set\n",
        "    for i in range(len(test)):\n",
        "        # split test row into input and output columns\n",
        "        testX, testy = test[i, :-1], test[i, -1]\n",
        "        # fit model on history and make a prediction\n",
        "        yhat = random_forest_forecast(history, testX)\n",
        "        # store forecast in list of predictions\n",
        "        predictions.append(yhat)\n",
        "        # add actual observation to history for the next loop\n",
        "        history.append(test[i])\n",
        "        # summarize progress\n",
        "        print('>expected=%.1f, predicted=%.1f' % (testy, yhat))\n",
        "    # estimate prediction error\n",
        "    error = mean_absolute_error(test[:, -1], predictions)\n",
        "    return error, test[:, -1], predictions"
      ],
      "metadata": {
        "id": "mls-zjr9zp7E"
      },
      "execution_count": 5,
      "outputs": []
    },
    {
      "cell_type": "code",
      "source": [
        "# Load data\n",
        "from google.colab import drive\n",
        "\n",
        "drive.mount('/content/drive')\n",
        "\n",
        "path = \"/content/drive/MyDrive/Colab Notebooks/daily-total-female-births.csv\""
      ],
      "metadata": {
        "colab": {
          "base_uri": "https://localhost:8080/"
        },
        "id": "66bbwnMRzwbG",
        "outputId": "1f04dbc4-538c-4088-cd26-780ac39fd55b"
      },
      "execution_count": 6,
      "outputs": [
        {
          "output_type": "stream",
          "name": "stdout",
          "text": [
            "Mounted at /content/drive\n"
          ]
        }
      ]
    },
    {
      "cell_type": "code",
      "source": [
        "# load the dataset\n",
        "series = read_csv('/content/drive/MyDrive/Colab Notebooks/daily-total-female-births.csv', header=0, index_col=0)\n",
        "values = series.values\n",
        "# transform the time series data into supervised learning\n",
        "data = series_to_supervised(values, n_in=6)"
      ],
      "metadata": {
        "id": "oWLgjWcdztV6"
      },
      "execution_count": 8,
      "outputs": []
    },
    {
      "cell_type": "code",
      "source": [
        "# evaluate\n",
        "mae, y, yhat = walk_forward_validation(data, 12)\n",
        "print('MAE: %.3f' % mae)"
      ],
      "metadata": {
        "colab": {
          "base_uri": "https://localhost:8080/"
        },
        "id": "VKYFOAIv0IH7",
        "outputId": "51dba958-daa4-4e20-f92a-92a81a59935d"
      },
      "execution_count": 9,
      "outputs": [
        {
          "output_type": "stream",
          "name": "stdout",
          "text": [
            ">expected=42.0, predicted=45.2\n",
            ">expected=53.0, predicted=43.7\n",
            ">expected=39.0, predicted=41.4\n",
            ">expected=40.0, predicted=38.4\n",
            ">expected=38.0, predicted=43.2\n",
            ">expected=44.0, predicted=47.4\n",
            ">expected=34.0, predicted=42.6\n",
            ">expected=37.0, predicted=36.7\n",
            ">expected=52.0, predicted=38.1\n",
            ">expected=48.0, predicted=41.7\n",
            ">expected=55.0, predicted=43.8\n",
            ">expected=50.0, predicted=44.9\n",
            "MAE: 5.892\n"
          ]
        }
      ]
    },
    {
      "cell_type": "code",
      "source": [
        "# plot expected vs predicted\n",
        "pyplot.plot(y, label='Expected')\n",
        "pyplot.plot(yhat, label='Predicted')\n",
        "pyplot.legend()\n",
        "pyplot.show()"
      ],
      "metadata": {
        "colab": {
          "base_uri": "https://localhost:8080/",
          "height": 265
        },
        "id": "48_RB-cn0Q-2",
        "outputId": "df72924b-a12d-498e-c9b0-110d54fcb03d"
      },
      "execution_count": 10,
      "outputs": [
        {
          "output_type": "display_data",
          "data": {
            "text/plain": [
              "<Figure size 432x288 with 1 Axes>"
            ],
            "image/png": "[encoded data removed]"
          },
          "metadata": {
            "needs_background": "light"
          }
        }
      ]
    },
    {
      "cell_type": "code",
      "source": [
        "# finalize model and make a prediction for monthly births with random forest\n",
        "from numpy import asarray\n",
        "from pandas import read_csv\n",
        "from pandas import DataFrame\n",
        "from pandas import concat\n",
        "from sklearn.ensemble import RandomForestRegressor\n",
        " \n",
        "# transform a time series dataset into a supervised learning dataset\n",
        "def series_to_supervised(data, n_in=1, n_out=1, dropnan=True):\n",
        " n_vars = 1 if type(data) is list else data.shape[1]\n",
        " df = DataFrame(data)\n",
        " cols = list()\n",
        " # input sequence (t-n, ... t-1)\n",
        " for i in range(n_in, 0, -1):\n",
        "  cols.append(df.shift(i))\n",
        " # forecast sequence (t, t+1, ... t+n)\n",
        " for i in range(0, n_out):\n",
        "  cols.append(df.shift(-i))\n",
        " # put it all together\n",
        " agg = concat(cols, axis=1)\n",
        " # drop rows with NaN values\n",
        " if dropnan:\n",
        "  agg.dropna(inplace=True)\n",
        " return agg.values\n",
        " \n",
        "# load the dataset\n",
        "series = read_csv('/content/drive/MyDrive/Colab Notebooks/daily-total-female-births.csv', header=0, index_col=0)\n",
        "values = series.values\n",
        "# transform the time series data into supervised learning\n",
        "train = series_to_supervised(values, n_in=6)\n",
        "# split into input and output columns\n",
        "trainX, trainy = train[:, :-1], train[:, -1]\n",
        "# fit model\n",
        "model = RandomForestRegressor(n_estimators=1000)\n",
        "model.fit(trainX, trainy)\n",
        "# construct an input for a new prediction\n",
        "row = values[-6:].flatten()\n",
        "# make a one-step prediction\n",
        "yhat = model.predict(asarray([row]))\n",
        "print('Input: %s, Predicted: %.3f' % (row, yhat[0]))"
      ],
      "metadata": {
        "colab": {
          "base_uri": "https://localhost:8080/"
        },
        "id": "j0n-f18r1Hw-",
        "outputId": "5964b3e0-d607-4312-80e6-95352b6dc542"
      },
      "execution_count": 15,
      "outputs": [
        {
          "output_type": "stream",
          "name": "stdout",
          "text": [
            "Input: [34 37 52 48 55 50], Predicted: 42.607\n"
          ]
        }
      ]
    }
  ]
}