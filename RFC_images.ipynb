{
 "cells": [
  {
   "cell_type": "code",
   "execution_count": 1,
   "id": "74578f21-d7ee-4887-b48e-c9b25de9ffe3",
   "metadata": {},
   "outputs": [],
   "source": [
    "from sklearn.ensemble import RandomForestClassifier\n",
    "from sklearn.metrics import accuracy_score\n",
    "from sklearn.model_selection import train_test_split, cross_val_predict\n",
    "from sklearn.utils import shuffle\n",
    "import matplotlib .pyplot as plt\n",
    "\n",
    "import cv2\n",
    "import numpy as np\n",
    "import pandas as pd\n",
    "import os"
   ]
  },
  {
   "cell_type": "code",
   "execution_count": 2,
   "id": "cd30ef0e-ea62-4284-afca-6c1d587de74c",
   "metadata": {},
   "outputs": [],
   "source": [
    "# Load the dataset\n",
    "data = \"C:\\\\chest_xray\\\\train\"\n",
    "#classes = os.listdir(data)\n",
    "classes ={'COVID' :0, 'NORMAL':1}\n",
    "X = []\n",
    "y = []\n",
    "for i, class_name in enumerate(classes):\n",
    "    class_dir = os.path.join(data, class_name)\n",
    "    for image_name in os.listdir(class_dir):\n",
    "        image_path = os.path.join(class_dir, image_name)\n",
    "        image = cv2.imread(image_path)\n",
    "        image = cv2.resize(image, (64, 64))  # resize the image to a consistent size\n",
    "        X.append(image)\n",
    "        y.append(i)\n",
    "X = np.array(X)\n",
    "y = np.array(y)"
   ]
  },
  {
   "cell_type": "code",
   "execution_count": 3,
   "id": "837a95c7-8dc0-4f71-938b-277620b8cbdb",
   "metadata": {},
   "outputs": [
    {
     "data": {
      "text/plain": [
       "(7315, 12288)"
      ]
     },
     "execution_count": 3,
     "metadata": {},
     "output_type": "execute_result"
    }
   ],
   "source": [
    "\n",
    "X_1 = X.reshape((7315, 64*64*3))\n",
    "X_1.shape"
   ]
  },
  {
   "cell_type": "code",
   "execution_count": 4,
   "id": "a6963664-d4d0-432b-b862-2e10d31859b8",
   "metadata": {},
   "outputs": [],
   "source": [
    "# Shuffle and split the dataset into training, validation, and testing sets\n",
    "X, y = shuffle(X_1, y, random_state=42)\n",
    "X_train, X_test, y_train, y_test = train_test_split(X_1, y, test_size=0.2, random_state=42)\n",
    "X_train, X_val, y_train, y_val = train_test_split(X_train, y_train, test_size=0.2, random_state=42)"
   ]
  },
  {
   "cell_type": "code",
   "execution_count": 5,
   "id": "2f182eb8-9736-40d7-9c53-743290a7a973",
   "metadata": {},
   "outputs": [
    {
     "data": {
      "text/plain": [
       "RandomForestClassifier(max_depth=5, min_samples_leaf=5, n_estimators=20,\n",
       "                       random_state=42)"
      ]
     },
     "execution_count": 5,
     "metadata": {},
     "output_type": "execute_result"
    }
   ],
   "source": [
    "# Train the Random Forest model\n",
    "rfm = RandomForestClassifier(n_estimators=20, max_depth=5, min_samples_leaf=5, random_state=42)\n",
    "rfm.fit(X_train, y_train)"
   ]
  },
  {
   "cell_type": "code",
   "execution_count": 6,
   "id": "a5956067-a3ea-41d7-b14e-fba9e8b80dca",
   "metadata": {},
   "outputs": [],
   "source": [
    "y_probas_forest = cross_val_predict(rfm, X_train, y_train, cv=3,\n",
    "                                    method=\"predict_proba\")"
   ]
  },
  {
   "cell_type": "code",
   "execution_count": 7,
   "id": "79ebb2ad-0b0e-42b3-a330-d9df33f74ebf",
   "metadata": {},
   "outputs": [
    {
     "data": {
      "text/plain": [
       "array([[0.52832131, 0.47167869],\n",
       "       [0.50638406, 0.49361594]])"
      ]
     },
     "execution_count": 7,
     "metadata": {},
     "output_type": "execute_result"
    }
   ],
   "source": [
    "y_probas_forest[:2]"
   ]
  },
  {
   "cell_type": "code",
   "execution_count": 48,
   "id": "cbb90296-5386-47d9-8147-47c3a0e1ef2d",
   "metadata": {},
   "outputs": [
    {
     "name": "stdout",
     "output_type": "stream",
     "text": [
      "Validation accuracy: 0.4961571306575576\n"
     ]
    }
   ],
   "source": [
    "# Evaluate the model on the validation set\n",
    "y_val_pred = rfm.predict(X_val)\n",
    "val_accuracy = accuracy_score(y_val, y_val_pred)\n",
    "print(\"Validation accuracy:\", val_accuracy)"
   ]
  },
  {
   "cell_type": "code",
   "execution_count": 49,
   "id": "7dfea503-ee63-4fe5-903c-6b07035d88c9",
   "metadata": {},
   "outputs": [
    {
     "name": "stdout",
     "output_type": "stream",
     "text": [
      "Test accuracy: 0.5311004784688995\n"
     ]
    }
   ],
   "source": [
    "# Test the model on the testing set\n",
    "y_test_pred = rfm.predict(X_test)\n",
    "test_accuracy = accuracy_score(y_test, y_test_pred)\n",
    "print(\"Test accuracy:\", test_accuracy)\n"
   ]
  },
  {
   "cell_type": "code",
   "execution_count": 52,
   "id": "03409a31-38e9-4ef1-bdf2-1866daf277a4",
   "metadata": {},
   "outputs": [
    {
     "name": "stdout",
     "output_type": "stream",
     "text": [
      "Validation precision: 0.48131109914027337\n",
      "Validation recall: 0.4961571306575576\n",
      "Validation F1 score: 0.46371671245594215\n"
     ]
    }
   ],
   "source": [
    "from sklearn.metrics import accuracy_score, precision_score, recall_score, f1_score\n",
    "\n",
    "val_precision = precision_score(y_val, y_val_pred, average='weighted')\n",
    "val_recall = recall_score(y_val, y_val_pred, average='weighted')\n",
    "val_f1 = f1_score(y_val, y_val_pred, average='weighted')\n",
    "print(\"Validation precision:\", val_precision)\n",
    "print(\"Validation recall:\", val_recall)\n",
    "print(\"Validation F1 score:\", val_f1)"
   ]
  },
  {
   "cell_type": "code",
   "execution_count": 53,
   "id": "113953a9-20c0-45a5-aef7-03a66bb42306",
   "metadata": {},
   "outputs": [
    {
     "name": "stdout",
     "output_type": "stream",
     "text": [
      "Test precision: 0.5201409044594216\n",
      "Test recall: 0.5311004784688995\n",
      "Test F1 score: 0.5049023437033565\n"
     ]
    }
   ],
   "source": [
    "test_precision = precision_score(y_test, y_test_pred, average='weighted')\n",
    "test_recall = recall_score(y_test, y_test_pred, average='weighted')\n",
    "test_f1 = f1_score(y_test, y_test_pred, average='weighted')\n",
    "print(\"Test precision:\", test_precision)\n",
    "print(\"Test recall:\", test_recall)\n",
    "print(\"Test F1 score:\", test_f1)"
   ]
  },
  {
   "cell_type": "code",
   "execution_count": 54,
   "id": "cd27361b-2b34-46b2-9c34-a013aa4e22b6",
   "metadata": {},
   "outputs": [
    {
     "name": "stdout",
     "output_type": "stream",
     "text": [
      "Precision: 0.48984771573604063\n"
     ]
    }
   ],
   "source": [
    "from sklearn.metrics import confusion_matrix\n",
    "\n",
    "cm=confusion_matrix(y_test, y_test_pred)\n",
    "precision = cm[1, 1] / (cm[0, 1] + cm[1, 1])\n",
    "\n",
    "print(\"Precision:\", precision)\n",
    "#recall = TP / (FN + TP)\n",
    "#print(\"Recall:\", recall)\n"
   ]
  },
  {
   "cell_type": "code",
   "execution_count": 55,
   "id": "18551a3a-533a-4907-b535-9786d31d5b2e",
   "metadata": {},
   "outputs": [
    {
     "data": {
      "image/png": "[encoded data removed]",
      "text/plain": [
       "<Figure size 432x288 with 2 Axes>"
      ]
     },
     "metadata": {
      "needs_background": "light"
     },
     "output_type": "display_data"
    }
   ],
   "source": [
    "plt.imshow(cm, cmap=plt.cm.Blues)\n",
    "plt.title(\"Confusion Matrix\")\n",
    "plt.colorbar()\n",
    "plt.xticks([0, 1], labels=[\"Negative\", \"Positive\"])\n",
    "plt.yticks([0, 1], labels=[\"Negative\", \"Positive\"])\n",
    "plt.xlabel(\"Predicted Label\")\n",
    "plt.ylabel(\"True Label\")\n",
    "plt.show()"
   ]
  },
  {
   "cell_type": "code",
   "execution_count": 56,
   "id": "66356ec0-4258-49a7-9596-9d55a9977a52",
   "metadata": {},
   "outputs": [
    {
     "name": "stderr",
     "output_type": "stream",
     "text": [
      "C:\\Users\\almei\\AppData\\Local\\Temp/ipykernel_20428/4068207903.py:8: UserWarning: FixedFormatter should only be used together with FixedLocator\n",
      "  ax.set_xticklabels(['', 'Positive', 'Negative'])\n",
      "C:\\Users\\almei\\AppData\\Local\\Temp/ipykernel_20428/4068207903.py:9: UserWarning: FixedFormatter should only be used together with FixedLocator\n",
      "  ax.set_yticklabels(['', 'Positive', 'Negative'])\n"
     ]
    },
    {
     "data": {
      "image/png": "[encoded data removed]",
      "text/plain": [
       "<Figure size 432x288 with 1 Axes>"
      ]
     },
     "metadata": {
      "needs_background": "light"
     },
     "output_type": "display_data"
    }
   ],
   "source": [
    "precision_matrix = np.array([[precision, 1-precision], [0, 1]])\n",
    "\n",
    "# Plot precision matrix\n",
    "fig, ax = plt.subplots()\n",
    "ax.matshow(precision_matrix, cmap='Blues')\n",
    "\n",
    "# Set axis labels\n",
    "ax.set_xticklabels(['', 'Positive', 'Negative'])\n",
    "ax.set_yticklabels(['', 'Positive', 'Negative'])\n",
    "\n",
    "# Set axis ticks\n",
    "ax.set_xticks([0, 1])\n",
    "ax.set_yticks([0, 1])\n",
    "\n",
    "# Add text to matrix\n",
    "for i in range(2):\n",
    "    for j in range(2):\n",
    "        c = precision_matrix[j, i]\n",
    "        ax.text(i, j, f'{c:.2f}', va='center', ha='center')\n",
    "\n",
    "# Set title and show plot\n",
    "ax.set_title('Precision Matrix')\n",
    "plt.show()"
   ]
  },
  {
   "cell_type": "code",
   "execution_count": 57,
   "id": "09536247-5758-4dd8-bb4c-3c5824f99f48",
   "metadata": {},
   "outputs": [
    {
     "name": "stdout",
     "output_type": "stream",
     "text": [
      "[0.74394904 0.28466077]\n"
     ]
    },
    {
     "data": {
      "text/plain": [
       "{'COVID': 0, 'NORMAL': 1}"
      ]
     },
     "execution_count": 57,
     "metadata": {},
     "output_type": "execute_result"
    }
   ],
   "source": [
    "# calculate the true positives for each class\n",
    "tp = np.diag(cm)\n",
    "\n",
    "# calculate the number of actual positives for each class\n",
    "pos = np.sum(cm, axis=1)\n",
    "\n",
    "# calculate the recall for each class\n",
    "recall = tp / pos\n",
    "\n",
    "# print the recall matrix\n",
    "print(recall)\n",
    "classes"
   ]
  },
  {
   "cell_type": "code",
   "execution_count": 58,
   "id": "8f46df5e-3aa1-4cc7-b17a-1dcfd262dcc5",
   "metadata": {},
   "outputs": [
    {
     "data": {
      "image/png": "[encoded data removed]",
      "text/plain": [
       "<Figure size 432x288 with 1 Axes>"
      ]
     },
     "metadata": {
      "needs_background": "light"
     },
     "output_type": "display_data"
    }
   ],
   "source": [
    "plt.bar(classes.keys(),recall)\n",
    "plt.xlabel('Class')\n",
    "plt.ylabel('Recall')\n",
    "plt.show()"
   ]
  },
  {
   "cell_type": "code",
   "execution_count": 59,
   "id": "669d85c4-2114-40a1-8860-ea53bcafe946",
   "metadata": {},
   "outputs": [],
   "source": [
    "\n",
    "# set a threshold for positive class\n",
    "threshold = 0.5\n",
    "# create predictions based on threshold\n",
    "y_scores_forest = (y_probas_forest[:, 1] >= threshold).astype(int)\n",
    "\n"
   ]
  },
  {
   "cell_type": "code",
   "execution_count": 60,
   "id": "49888c7a-c468-4c2c-80e2-9307741acaef",
   "metadata": {},
   "outputs": [],
   "source": [
    "from sklearn.metrics import precision_recall_curve\n",
    "\n",
    "precisions, recalls, thresholds  = precision_recall_curve(\n",
    "    y_train, y_scores_forest)"
   ]
  },
  {
   "cell_type": "code",
   "execution_count": 61,
   "id": "f2afdae0-ce43-48d3-94aa-ce46f8f3cfeb",
   "metadata": {},
   "outputs": [
    {
     "data": {
      "image/png": "[encoded data removed]",
      "text/plain": [
       "<Figure size 432x288 with 1 Axes>"
      ]
     },
     "metadata": {
      "needs_background": "light"
     },
     "output_type": "display_data"
    }
   ],
   "source": [
    "plt.plot(thresholds, precisions[:-1], \"b--\", label=\"Precision\", linewidth=2)\n",
    "plt.plot(thresholds, recalls[:-1], \"g-\", label=\"Recall\", linewidth=2)\n",
    "plt.vlines(threshold, 0, 1.0, \"k\", \"dotted\", label=\"threshold\")\n",
    "plt.legend()\n",
    "plt.show()"
   ]
  },
  {
   "cell_type": "code",
   "execution_count": null,
   "id": "bfeabe70-f6ff-4157-a18c-f0f9b98f22c4",
   "metadata": {},
   "outputs": [],
   "source": []
  }
 ],
 "metadata": {
  "kernelspec": {
   "display_name": "Python 3 (ipykernel)",
   "language": "python",
   "name": "python3"
  },
  "language_info": {
   "codemirror_mode": {
    "name": "ipython",
    "version": 3
   },
   "file_extension": ".py",
   "mimetype": "text/x-python",
   "name": "python",
   "nbconvert_exporter": "python",
   "pygments_lexer": "ipython3",
   "version": "3.9.7"
  }
 },
 "nbformat": 4,
 "nbformat_minor": 5
}
