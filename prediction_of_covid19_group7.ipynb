{
 "cells": [
  {
   "cell_type": "markdown",
   "id": "65d17d66-b2eb-4c1a-8d7d-37a5320e31a6",
   "metadata": {},
   "source": [
    "# Prediction of Covid-19 cases & proposing faster diagnosis using chest X-ray image recognition method."
   ]
  },
  {
   "cell_type": "code",
   "execution_count": 102,
   "id": "6d5bb0b6",
   "metadata": {},
   "outputs": [
    {
     "name": "stdout",
     "output_type": "stream",
     "text": [
      "C:\\Users\\almei\\Downloads\\chest_xray\n"
     ]
    }
   ],
   "source": [
    "import os\n",
    "\n",
    "cwd = os.getcwd()\n",
    "print(cwd)"
   ]
  },
  {
   "cell_type": "code",
   "execution_count": 103,
   "id": "fa41cd16",
   "metadata": {},
   "outputs": [],
   "source": [
    "import os\n",
    "\n",
    "new_directory = \"C:\\\\Users\\\\almei\\\\Downloads\\\\chest_xray\"\n",
    "os.chdir(new_directory)"
   ]
  },
  {
   "cell_type": "code",
   "execution_count": 104,
   "id": "4abe2698",
   "metadata": {},
   "outputs": [
    {
     "name": "stdout",
     "output_type": "stream",
     "text": [
      "C:\\Users\\almei\\Downloads\\chest_xray\n"
     ]
    }
   ],
   "source": [
    "import os\n",
    "\n",
    "cwd = os.getcwd()\n",
    "print(cwd)"
   ]
  },
  {
   "cell_type": "code",
   "execution_count": 105,
   "id": "73846f8e",
   "metadata": {},
   "outputs": [
    {
     "name": "stdout",
     "output_type": "stream",
     "text": [
      "Tensorflow Version: 2.11.0\n",
      "Keras Version: 2.11.0\n"
     ]
    }
   ],
   "source": [
    "import os\n",
    "import pathlib\n",
    "\n",
    "# Some basic libraries that help us create dataframes and visualizations.\n",
    "import numpy as np\n",
    "import pandas as pd\n",
    "import matplotlib.pyplot as plt\n",
    "from matplotlib import image\n",
    "plt.style.use(\"fivethirtyeight\")\n",
    "%matplotlib inline\n",
    "\n",
    "# Importing Deep Learning Libraries \n",
    "import tensorflow as tf\n",
    "from tensorflow import keras\n",
    "from keras.models import Sequential\n",
    "from tensorflow.keras import layers\n",
    "from keras.layers import Dense, Flatten\n",
    "\n",
    "# Tensorflow and Keras Version\n",
    "print(\"Tensorflow Version:\", tf.__version__)\n",
    "print(\"Keras Version:\", keras.__version__)\n",
    "\n",
    "# To Suppress any Un-necessary warnings\n",
    "import warnings\n",
    "warnings.filterwarnings('ignore')"
   ]
  },
  {
   "cell_type": "code",
   "execution_count": 106,
   "id": "2d383963",
   "metadata": {},
   "outputs": [],
   "source": [
    "# Here, we define the paths where we have our data for training, testing and predictions\n",
    "data_dir_train = pathlib.Path(\"C:\\\\Users\\\\almei\\\\Downloads\\\\chest_xray\\\\train\")\n",
    "data_dir_test = pathlib.Path(\"C:\\\\Users\\\\almei\\\\Downloads\\\\chest_xray\\\\test\")\n",
    "data_dir_val = pathlib.Path(\"C:\\\\Users\\\\almei\\\\Downloads\\\\chest_xray\\\\pred\")"
   ]
  },
  {
   "cell_type": "code",
   "execution_count": 107,
   "id": "d9bf4a7b",
   "metadata": {},
   "outputs": [
    {
     "name": "stdout",
     "output_type": "stream",
     "text": [
      "Number of Images in Train: 7315\n",
      "Number of Images in Test: 620\n",
      "Number of Images in Validation: 9\n"
     ]
    }
   ],
   "source": [
    "# Checking the number images in all the paths defined above\n",
    "print(\"Number of Images in Train:\", len(list(data_dir_train.glob(\"*/*.jpeg\"))))\n",
    "print(\"Number of Images in Test:\", len(list(data_dir_test.glob(\"*/*.jpeg\"))))\n",
    "print(\"Number of Images in Validation:\", len(list(data_dir_val.glob(\"*/*.jpeg\"))))"
   ]
  },
  {
   "cell_type": "code",
   "execution_count": 108,
   "id": "6d4f7834",
   "metadata": {},
   "outputs": [],
   "source": [
    "height = 150\n",
    "width = 150\n",
    "batch_size = 16\n",
    "seed = 42 # For reproducibility "
   ]
  },
  {
   "cell_type": "markdown",
   "id": "e1fd7d95-59fc-4f0b-95a8-569a58236556",
   "metadata": {},
   "source": [
    "#### Here, we are defining some variables which will be commonly used in the further codes."
   ]
  },
  {
   "cell_type": "code",
   "execution_count": 109,
   "id": "97f88181",
   "metadata": {},
   "outputs": [
    {
     "name": "stdout",
     "output_type": "stream",
     "text": [
      "Found 7315 files belonging to 2 classes.\n",
      "Using 5852 files for training.\n"
     ]
    }
   ],
   "source": [
    "train_ds = keras.preprocessing.image_dataset_from_directory(\n",
    "data_dir_train,\n",
    "seed=seed,\n",
    "validation_split=0.2,\n",
    "subset='training',\n",
    "image_size=(height,width),\n",
    "batch_size=batch_size)"
   ]
  },
  {
   "cell_type": "markdown",
   "id": "52284818-ede4-4a6b-8784-aef766de9367",
   "metadata": {},
   "source": [
    "#### Next! In this step, we are going to use the method \"image_dataset_from_directory()\" to construct a dataset!\n",
    "#### First we ask Keras to create a \"training\" dataset with 0.2 as validation split.\n",
    "#### The \"validation_split\" value is set to 0.2, it means that 20% of the data will be used for validation and 80% of the data will be used for training. This split is done to ensure that the model is not overfitting the data. "
   ]
  },
  {
   "cell_type": "code",
   "execution_count": 110,
   "id": "fb85024a",
   "metadata": {},
   "outputs": [
    {
     "name": "stdout",
     "output_type": "stream",
     "text": [
      "Found 7315 files belonging to 2 classes.\n",
      "Using 1463 files for validation.\n"
     ]
    }
   ],
   "source": [
    "val_ds = keras.preprocessing.image_dataset_from_directory(\n",
    "data_dir_train,\n",
    "seed=seed,\n",
    "validation_split=0.2,\n",
    "subset='validation',\n",
    "image_size=(height,width),\n",
    "batch_size=batch_size)"
   ]
  },
  {
   "cell_type": "markdown",
   "id": "588016dd-e48e-4d3c-b9d7-ffde27ce84d1",
   "metadata": {},
   "source": [
    "#### Second we ask Keras to create a \"validation\" dataset with 0.2 as validation split."
   ]
  },
  {
   "cell_type": "code",
   "execution_count": 111,
   "id": "9f648c2c",
   "metadata": {},
   "outputs": [
    {
     "data": {
      "text/plain": [
       "['COVID', 'NORMAL']"
      ]
     },
     "execution_count": 111,
     "metadata": {},
     "output_type": "execute_result"
    }
   ],
   "source": [
    "class_names = train_ds.class_names\n",
    "class_names"
   ]
  },
  {
   "cell_type": "markdown",
   "id": "cc579c5f-64a0-415f-9da5-d4a55e4b3cee",
   "metadata": {},
   "source": [
    "#### Finally we are storing all the available class names from the dataset. (NORMAL and COVID)\n",
    "#### This also ensures, we have created the dataset successfully!"
   ]
  },
  {
   "cell_type": "code",
   "execution_count": 112,
   "id": "84c2ff42",
   "metadata": {},
   "outputs": [
    {
     "data": {
      "image/png": "[encoded data removed]",
      "text/plain": [
       "<Figure size 720x576 with 2 Axes>"
      ]
     },
     "metadata": {},
     "output_type": "display_data"
    }
   ],
   "source": [
    "plt.figure(figsize=[10,8])\n",
    "\n",
    "for index, classes in enumerate(class_names):\n",
    "    for images in train_ds.file_paths:\n",
    "        if classes in images:\n",
    "            img = image.imread(images)\n",
    "            plt.subplot(1,2,index+1)\n",
    "            plt.imshow(img, cmap=plt.cm.gist_gray)\n",
    "            plt.xticks([])\n",
    "            plt.yticks([])\n",
    "            plt.title(str(classes))\n",
    "            break\n",
    "plt.show()"
   ]
  },
  {
   "cell_type": "markdown",
   "id": "9e2d3ac5-89af-4a50-a526-644727147de2",
   "metadata": {},
   "source": [
    "#### In the above code have have definied the Canvas size\n",
    "#### Next we have just picked one image from the unique categories and display it."
   ]
  },
  {
   "cell_type": "code",
   "execution_count": null,
   "id": "bd0a33d3",
   "metadata": {},
   "outputs": [],
   "source": [
    "import pandas as pd\n",
    "from PIL import Image\n",
    "\n",
    "image_path = \"C:\\\\Users\\\\almei\\\\Downloads\\\\chest_xray\\\\train\\\\COVID\"\n",
    "images = []\n",
    "for i in range(1,30):\n",
    "    image = Image.open(image_path+\"/PNEUMONIA_{}.jpeg\".format(i))\n",
    "    images.append(image)\n",
    "    \n",
    "    im_array = np.array(image)\n",
    "    plt.imshow(im_array)\n",
    "    plt.show()\n"
   ]
  },
  {
   "cell_type": "markdown",
   "id": "30eb8b5e-f990-4ffd-9c7c-832ae3b7cb59",
   "metadata": {},
   "source": [
    "#### Here, we load images and store them in a list and Visualize the images.\n"
   ]
  },
  {
   "cell_type": "code",
   "execution_count": 114,
   "id": "cb1939f5",
   "metadata": {},
   "outputs": [
    {
     "data": {
      "text/plain": [
       "[<PIL.JpegImagePlugin.JpegImageFile image mode=L size=1096x808 at 0x26C2A19FCD0>,\n",
       " <PIL.JpegImagePlugin.JpegImageFile image mode=L size=1056x696 at 0x26C22DA0430>,\n",
       " <PIL.JpegImagePlugin.JpegImageFile image mode=RGB size=885x592 at 0x26C1B5745E0>,\n",
       " <PIL.JpegImagePlugin.JpegImageFile image mode=L size=848x616 at 0x26C1ECEC040>,\n",
       " <PIL.JpegImagePlugin.JpegImageFile image mode=RGB size=1010x676 at 0x26C204E0580>,\n",
       " <PIL.JpegImagePlugin.JpegImageFile image mode=L size=1528x1056 at 0x26C26910CD0>,\n",
       " <PIL.JpegImagePlugin.JpegImageFile image mode=L size=1120x776 at 0x26C2821DFA0>,\n",
       " <PIL.JpegImagePlugin.JpegImageFile image mode=L size=1024x616 at 0x26C282B7A00>,\n",
       " <PIL.JpegImagePlugin.JpegImageFile image mode=L size=1008x768 at 0x26C2821DA00>,\n",
       " <PIL.JpegImagePlugin.JpegImageFile image mode=L size=992x776 at 0x26C283DBF70>,\n",
       " <PIL.JpegImagePlugin.JpegImageFile image mode=L size=1648x1592 at 0x26C28212C10>,\n",
       " <PIL.JpegImagePlugin.JpegImageFile image mode=L size=1808x1448 at 0x26C283BF310>,\n",
       " <PIL.JpegImagePlugin.JpegImageFile image mode=L size=1144x792 at 0x26C290A2C10>,\n",
       " <PIL.JpegImagePlugin.JpegImageFile image mode=L size=1526x1001 at 0x26C2727D610>,\n",
       " <PIL.JpegImagePlugin.JpegImageFile image mode=L size=984x608 at 0x26C2729AFD0>,\n",
       " <PIL.JpegImagePlugin.JpegImageFile image mode=L size=904x704 at 0x26C2B3D9F70>,\n",
       " <PIL.JpegImagePlugin.JpegImageFile image mode=L size=984x648 at 0x26C1B48F2B0>,\n",
       " <PIL.JpegImagePlugin.JpegImageFile image mode=L size=1120x880 at 0x26C2789EBB0>,\n",
       " <PIL.JpegImagePlugin.JpegImageFile image mode=L size=1152x688 at 0x26C278A12B0>,\n",
       " <PIL.JpegImagePlugin.JpegImageFile image mode=L size=1152x784 at 0x26C2788B5B0>,\n",
       " <PIL.JpegImagePlugin.JpegImageFile image mode=L size=1256x728 at 0x26C27B0FD00>,\n",
       " <PIL.JpegImagePlugin.JpegImageFile image mode=L size=1136x792 at 0x26C27B7DA90>,\n",
       " <PIL.JpegImagePlugin.JpegImageFile image mode=L size=1000x656 at 0x26C27FACCD0>,\n",
       " <PIL.JpegImagePlugin.JpegImageFile image mode=L size=1224x720 at 0x26C2781F190>,\n",
       " <PIL.JpegImagePlugin.JpegImageFile image mode=L size=1120x640 at 0x26C27B13460>,\n",
       " <PIL.JpegImagePlugin.JpegImageFile image mode=L size=1200x680 at 0x26C27DA5790>,\n",
       " <PIL.JpegImagePlugin.JpegImageFile image mode=L size=1264x1072 at 0x26C27EDCD30>,\n",
       " <PIL.JpegImagePlugin.JpegImageFile image mode=L size=1056x656 at 0x26C27A47AC0>,\n",
       " <PIL.JpegImagePlugin.JpegImageFile image mode=L size=1272x896 at 0x26C27949E20>]"
      ]
     },
     "execution_count": 114,
     "metadata": {},
     "output_type": "execute_result"
    }
   ],
   "source": [
    "images"
   ]
  },
  {
   "cell_type": "code",
   "execution_count": null,
   "id": "00c6a6d1",
   "metadata": {},
   "outputs": [],
   "source": [
    "images = [np.array(img) for img in images]\n",
    "images = [np.array(img) if len(img.shape) >= 3 else np.array(img)[..., np.newaxis] for img in images]\n",
    "for i, img in enumerate(images):\n",
    "    print(\"Image {} has shape: {}\".format(i, img.shape))"
   ]
  },
  {
   "cell_type": "markdown",
   "id": "25cf7a88-3d63-4397-bd68-1e78a8dcd647",
   "metadata": {},
   "source": [
    "#### The above code is transforming a list of images into a list of numpy arrays.\n",
    "#### This code is useful for checking the shapes of the images and making sure that they are in the correct format to be processed by a machine learning model. The desired shape of the images depends on the specific model being used, but they are typically expected to have three dimensions: height, width, and number of channels. "
   ]
  },
  {
   "cell_type": "code",
   "execution_count": 116,
   "id": "ffe5c602",
   "metadata": {},
   "outputs": [
    {
     "name": "stdout",
     "output_type": "stream",
     "text": [
      "Mean pixel values: 118.63259625460721\n"
     ]
    }
   ],
   "source": [
    "import pandas as pd\n",
    "from PIL import Image\n",
    "import numpy as np\n",
    "\n",
    "# Load images and store them in a list\n",
    "images = []\n",
    "\n",
    "labels = []\n",
    "for i in range(1,30):\n",
    "    image = Image.open(image_path+\"/PNEUMONIA_{}.jpeg\".format(i))\n",
    "    images.append(image)\n",
    "\n",
    "# Create a DataFrame\n",
    "df = pd.DataFrame({\"Image\": images})\n",
    "\n",
    "# Calculate mean pixel values for each image and add to the DataFrame\n",
    "df[\"Mean_Pixel_Values\"] = [np.mean(np.array(img)) for img in df[\"Image\"]]\n",
    "\n",
    "# Perform EDA\n",
    "# For example, get the mean pixel values of the first image\n",
    "mean_pixel_values = df[\"Mean_Pixel_Values\"].iloc[0]\n",
    "print(\"Mean pixel values:\", mean_pixel_values)"
   ]
  },
  {
   "cell_type": "markdown",
   "id": "2fcc4c88-5cd8-4d18-8ac5-22229d9667ab",
   "metadata": {},
   "source": [
    "#### This code is loading images and storing them in a list called images. The Image.open method from the PIL library is used to load each image using a loop that ranges from 1 to 30. The filenames are constructed using string formatting with the format method and the index i. The images are then stored in the images list.\n",
    "#### Next, a pandas DataFrame called df is created with a single column, \"Image\", which contains the images from the images list.\n",
    "#### The next step calculates the mean pixel values for each image and adds the values to the DataFrame as a new column, \"Mean_Pixel_Values\". "
   ]
  },
  {
   "cell_type": "code",
   "execution_count": null,
   "id": "7b54aa61",
   "metadata": {},
   "outputs": [],
   "source": [
    "# Plotting histogram of pixel values\n",
    "images = np.array(images)\n",
    "images = images.reshape(images.shape[0], -1)\n",
    "\n",
    "images = np.array(images)\n",
    "\n",
    "for i in range(len(images)):\n",
    "    plt.hist(images[i].ravel(), bins=256, color='blue', alpha=0.5)\n",
    "    plt.show()"
   ]
  },
  {
   "cell_type": "markdown",
   "id": "480b96be-9cd5-48e8-a1ea-1b0fdd426a17",
   "metadata": {},
   "source": [
    "#### This code would display a histogram for each image in the images list.\n",
    "#### It will loop through all the images in the images list and display a separate histogram for each image."
   ]
  },
  {
   "cell_type": "code",
   "execution_count": 118,
   "id": "6417a62f",
   "metadata": {},
   "outputs": [
    {
     "data": {
      "image/png": "[encoded data removed]",
      "text/plain": [
       "<Figure size 432x288 with 1 Axes>"
      ]
     },
     "metadata": {
      "needs_background": "light"
     },
     "output_type": "display_data"
    }
   ],
   "source": [
    "# Plot a histogram of the labels to see the distribution of the classes\n",
    "import seaborn as sns\n",
    "labels = np.array(class_names)\n",
    "sns.histplot(labels, kde=False)\n",
    "plt.title(\"Distribution of Classes\")\n",
    "plt.xlabel(\"Class\")\n",
    "plt.ylabel(\"Count\")\n",
    "plt.show()\n",
    "\n",
    "\n",
    "\n",
    "\n"
   ]
  },
  {
   "cell_type": "markdown",
   "id": "6ebc8b6c",
   "metadata": {},
   "source": [
    "# CNN model"
   ]
  },
  {
   "cell_type": "code",
   "execution_count": null,
   "id": "af625c5f",
   "metadata": {},
   "outputs": [],
   "source": []
  },
  {
   "cell_type": "code",
   "execution_count": 119,
   "id": "65171b5e",
   "metadata": {
    "scrolled": true
   },
   "outputs": [],
   "source": [
    "# Here we start building our model in Keras:\n",
    "\n",
    "model = Sequential([\n",
    "  layers.experimental.preprocessing.Rescaling(1./255, input_shape=(height, width, 3)),\n",
    "  layers.Conv2D(16, 3, padding='same', activation='relu'),\n",
    "  layers.MaxPooling2D(),\n",
    "  layers.Conv2D(32, 3, padding='same', activation='relu'),\n",
    "  layers.MaxPooling2D(),\n",
    "  layers.Conv2D(64, 3, padding='same', activation='relu'),\n",
    "  layers.MaxPooling2D(),\n",
    "  layers.Conv2D(128, 3, padding='same', activation='relu'),\n",
    "  layers.MaxPooling2D(),\n",
    "  layers.Dropout(0.2),\n",
    "  layers.Flatten(),\n",
    "  layers.Dense(256, activation='relu'),\n",
    "  layers.Dense(2)\n",
    "])"
   ]
  },
  {
   "cell_type": "code",
   "execution_count": 120,
   "id": "69b67913",
   "metadata": {},
   "outputs": [],
   "source": [
    "model.compile(optimizer='adam',\n",
    "              loss=tf.keras.losses.SparseCategoricalCrossentropy(from_logits=True),\n",
    "              metrics=['accuracy'])"
   ]
  },
  {
   "cell_type": "markdown",
   "id": "faeb4918-203a-41c7-a1a8-185cb9946b5d",
   "metadata": {},
   "source": [
    "#### Next we compile this model where we define the optimizer, loss function and the metric which we will use to evaluate."
   ]
  },
  {
   "cell_type": "code",
   "execution_count": 121,
   "id": "36a4186b",
   "metadata": {},
   "outputs": [
    {
     "name": "stdout",
     "output_type": "stream",
     "text": [
      "Requirement already satisfied: visualkeras in c:\\users\\almei\\anaconda3\\lib\\site-packages (0.0.2)\n",
      "Requirement already satisfied: numpy>=1.18.1 in c:\\users\\almei\\anaconda3\\lib\\site-packages (from visualkeras) (1.20.3)\n",
      "Requirement already satisfied: pillow>=6.2.0 in c:\\users\\almei\\anaconda3\\lib\\site-packages (from visualkeras) (8.4.0)\n",
      "Requirement already satisfied: aggdraw>=1.3.11 in c:\\users\\almei\\anaconda3\\lib\\site-packages (from visualkeras) (1.3.15)\n"
     ]
    }
   ],
   "source": [
    "!pip install visualkeras"
   ]
  },
  {
   "cell_type": "code",
   "execution_count": 122,
   "id": "b1a21e85",
   "metadata": {},
   "outputs": [
    {
     "data": {
      "image/png": "[encoded data removed]",
      "text/plain": [
       "<PIL.Image.Image image mode=RGBA size=839x436 at 0x26C2B3D98B0>"
      ]
     },
     "execution_count": 122,
     "metadata": {},
     "output_type": "execute_result"
    }
   ],
   "source": [
    "# Visualizing our model (Hidden Input)\n",
    "import visualkeras\n",
    "visualkeras.layered_view(model, scale_xy=2, legend=True)"
   ]
  },
  {
   "cell_type": "code",
   "execution_count": 123,
   "id": "f46a3fba",
   "metadata": {},
   "outputs": [
    {
     "name": "stdout",
     "output_type": "stream",
     "text": [
      "Epoch 1/20\n",
      "366/366 [==============================] - 104s 280ms/step - loss: 0.2622 - accuracy: 0.8891 - val_loss: 0.1440 - val_accuracy: 0.9481\n",
      "Epoch 2/20\n",
      "366/366 [==============================] - 146s 399ms/step - loss: 0.1581 - accuracy: 0.9419 - val_loss: 0.1496 - val_accuracy: 0.9405\n",
      "Epoch 3/20\n",
      "366/366 [==============================] - 96s 260ms/step - loss: 0.1267 - accuracy: 0.9535 - val_loss: 0.1236 - val_accuracy: 0.9522\n",
      "Epoch 4/20\n",
      "366/366 [==============================] - 90s 243ms/step - loss: 0.1040 - accuracy: 0.9588 - val_loss: 0.1238 - val_accuracy: 0.9535\n",
      "Epoch 5/20\n",
      "366/366 [==============================] - 88s 239ms/step - loss: 0.0896 - accuracy: 0.9648 - val_loss: 0.1069 - val_accuracy: 0.9590\n",
      "Epoch 6/20\n",
      "366/366 [==============================] - 97s 264ms/step - loss: 0.0760 - accuracy: 0.9735 - val_loss: 0.1051 - val_accuracy: 0.9658\n",
      "Epoch 7/20\n",
      "366/366 [==============================] - 107s 292ms/step - loss: 0.0708 - accuracy: 0.9751 - val_loss: 0.0985 - val_accuracy: 0.9610\n",
      "Epoch 8/20\n",
      "366/366 [==============================] - 107s 291ms/step - loss: 0.0505 - accuracy: 0.9803 - val_loss: 0.1039 - val_accuracy: 0.9610\n",
      "Epoch 9/20\n",
      "366/366 [==============================] - 105s 287ms/step - loss: 0.0500 - accuracy: 0.9793 - val_loss: 0.1000 - val_accuracy: 0.9638\n",
      "Epoch 10/20\n",
      "366/366 [==============================] - 104s 282ms/step - loss: 0.0303 - accuracy: 0.9872 - val_loss: 0.1163 - val_accuracy: 0.9665\n",
      "Epoch 11/20\n",
      "366/366 [==============================] - 96s 260ms/step - loss: 0.0330 - accuracy: 0.9865 - val_loss: 0.1361 - val_accuracy: 0.9617\n",
      "Epoch 12/20\n",
      "366/366 [==============================] - 99s 270ms/step - loss: 0.0288 - accuracy: 0.9894 - val_loss: 0.1019 - val_accuracy: 0.9556\n",
      "Epoch 13/20\n",
      "366/366 [==============================] - 98s 267ms/step - loss: 0.0222 - accuracy: 0.9920 - val_loss: 0.1126 - val_accuracy: 0.9679\n",
      "Epoch 14/20\n",
      "366/366 [==============================] - 94s 256ms/step - loss: 0.0228 - accuracy: 0.9928 - val_loss: 0.1171 - val_accuracy: 0.9706\n",
      "Epoch 15/20\n",
      "366/366 [==============================] - 94s 256ms/step - loss: 0.0302 - accuracy: 0.9886 - val_loss: 0.1152 - val_accuracy: 0.9692\n",
      "Epoch 16/20\n",
      "366/366 [==============================] - 94s 257ms/step - loss: 0.0174 - accuracy: 0.9938 - val_loss: 0.1212 - val_accuracy: 0.9686\n",
      "Epoch 17/20\n",
      "366/366 [==============================] - 94s 255ms/step - loss: 0.0102 - accuracy: 0.9966 - val_loss: 0.1705 - val_accuracy: 0.9624\n",
      "Epoch 18/20\n",
      "366/366 [==============================] - 95s 258ms/step - loss: 0.0177 - accuracy: 0.9945 - val_loss: 0.1536 - val_accuracy: 0.9651\n",
      "Epoch 19/20\n",
      "366/366 [==============================] - 93s 254ms/step - loss: 0.0205 - accuracy: 0.9930 - val_loss: 0.1364 - val_accuracy: 0.9651\n",
      "Epoch 20/20\n",
      "366/366 [==============================] - 98s 268ms/step - loss: 0.0117 - accuracy: 0.9957 - val_loss: 0.1465 - val_accuracy: 0.9672\n"
     ]
    }
   ],
   "source": [
    "# Finally we are going to train our model for 20 epochs\n",
    "history = model.fit(train_ds, validation_data=val_ds, epochs=20)"
   ]
  },
  {
   "cell_type": "markdown",
   "id": "d48bb53f-6b13-4024-bcb6-f3f2a7f335d8",
   "metadata": {},
   "source": [
    "#### You would want the loss to decrease over time and the accuracy to increase, indicating that the model is learning and improving its performance. If the loss and accuracy are not improving, or if the loss is increasing and the accuracy is decreasing, it may indicate that the model is overfitting or underfitting the data.\n",
    "#### As we can see in the above model the loss is descreasing and accuracy is increasing, hence the model is performing well."
   ]
  },
  {
   "cell_type": "code",
   "execution_count": 124,
   "id": "2f905974",
   "metadata": {},
   "outputs": [
    {
     "data": {
      "image/png": "[encoded data removed]",
      "text/plain": [
       "<Figure size 720x360 with 1 Axes>"
      ]
     },
     "metadata": {
      "needs_background": "light"
     },
     "output_type": "display_data"
    }
   ],
   "source": [
    "pd.DataFrame(history.history).plot(figsize=[10,5])\n",
    "plt.yticks(np.linspace(0,1,6))\n",
    "plt.xticks(np.linspace(0,10,2))\n",
    "plt.show()"
   ]
  },
  {
   "cell_type": "markdown",
   "id": "0b0e193b-d9e8-4ba0-a4d9-4b5e08470796",
   "metadata": {},
   "source": [
    "#### Next we are going to plot a graph to check the loss and accuracy as the model trained for 20 epochs for both train and validation."
   ]
  },
  {
   "cell_type": "markdown",
   "id": "99a10238",
   "metadata": {},
   "source": [
    "# Evaluating the model"
   ]
  },
  {
   "cell_type": "code",
   "execution_count": 125,
   "id": "8bae7dbb",
   "metadata": {},
   "outputs": [
    {
     "name": "stdout",
     "output_type": "stream",
     "text": [
      "Found 620 files belonging to 2 classes.\n"
     ]
    }
   ],
   "source": [
    "# To evaluate our model, we are going to make use of the \"test\" dataset\n",
    "test_ds = keras.preprocessing.image_dataset_from_directory(\n",
    "data_dir_test,\n",
    "seed=seed,\n",
    "image_size=(height,width),\n",
    "batch_size=batch_size)"
   ]
  },
  {
   "cell_type": "code",
   "execution_count": 126,
   "id": "3d7b1e74",
   "metadata": {},
   "outputs": [
    {
     "name": "stdout",
     "output_type": "stream",
     "text": [
      "39/39 [==============================] - 4s 101ms/step - loss: 0.1306 - accuracy: 0.9694\n"
     ]
    },
    {
     "data": {
      "text/plain": [
       "[0.13059045374393463, 0.9693548679351807]"
      ]
     },
     "execution_count": 126,
     "metadata": {},
     "output_type": "execute_result"
    }
   ],
   "source": [
    "model.evaluate(test_ds, batch_size=batch_size)"
   ]
  },
  {
   "cell_type": "markdown",
   "id": "5c1fcd6a",
   "metadata": {},
   "source": [
    "# Saving Our Model"
   ]
  },
  {
   "cell_type": "code",
   "execution_count": 127,
   "id": "66483450",
   "metadata": {},
   "outputs": [],
   "source": [
    "model.save(\"./xray_model.h5\")"
   ]
  },
  {
   "cell_type": "code",
   "execution_count": 128,
   "id": "496f591d",
   "metadata": {},
   "outputs": [
    {
     "name": "stdout",
     "output_type": "stream",
     "text": [
      "C:\\Users\\almei\\Downloads\\chest_xray\n"
     ]
    }
   ],
   "source": [
    "cwd = os.getcwd()\n",
    "print(cwd)"
   ]
  },
  {
   "cell_type": "markdown",
   "id": "f01688d3",
   "metadata": {},
   "source": [
    "# Prediction Using the Model"
   ]
  },
  {
   "cell_type": "code",
   "execution_count": 133,
   "id": "997cbd89",
   "metadata": {},
   "outputs": [
    {
     "name": "stdout",
     "output_type": "stream",
     "text": [
      "1/1 [==============================] - 0s 69ms/step\n"
     ]
    },
    {
     "data": {
      "image/png": "[encoded data removed]",
      "text/plain": [
       "<Figure size 576x360 with 1 Axes>"
      ]
     },
     "metadata": {
      "needs_background": "light"
     },
     "output_type": "display_data"
    }
   ],
   "source": [
    "# Loading the .h5 model that we had saved in the previous step:\n",
    "my_xray_cnnmodel = keras.models.load_model(\"./xray_model.h5\")\n",
    "\n",
    "# Defining an image path from the \"pred\" folder:\n",
    "image_path = \"C:\\\\Users\\\\almei\\\\Downloads\\\\chest_xray\\\\pred\\\\COVID\\\\NORMAL_1.jpeg\"\n",
    "\n",
    "# Preprocessing the image to 150x150x3 size and predicting the label:\n",
    "image = tf.keras.preprocessing.image.load_img(image_path,target_size=(150,150,3))\n",
    "input_arr = tf.keras.preprocessing.image.img_to_array(image)\n",
    "input_arr = np.array([input_arr])\n",
    "predictions = my_xray_cnnmodel.predict(input_arr)\n",
    "\n",
    "classes = ['NORMAL', 'COVID']\n",
    "\n",
    "actual = ''\n",
    "\n",
    "for class_name in classes:\n",
    "    if class_name in image_path:\n",
    "        actual = class_name\n",
    "\n",
    "pred = classes[np.argmax(predictions, axis=1)[0]]\n",
    "\n",
    "# Finally we are displaying the predicted outcome:\n",
    "plt.figure(figsize=[8,5])\n",
    "plt.imshow(image, cmap='gray')\n",
    "plt.title(\"Actual:\"+actual+\" /Predicted:\"+pred, size=15)\n",
    "plt.axis('off')\n",
    "plt.show()"
   ]
  },
  {
   "cell_type": "markdown",
   "id": "ea9810f0-ea6e-4a5e-80c1-e421c49a5839",
   "metadata": {},
   "source": [
    "#### The image is resized to 150x150x3 and the resulting array is passed as input to the model's predict method to get the predictions. The image is displayed along with the actual and predicted class labels as the title of the plot."
   ]
  },
  {
   "cell_type": "code",
   "execution_count": null,
   "id": "2450922d",
   "metadata": {},
   "outputs": [],
   "source": [
    "sizes = [img.size for img in images]\n",
    "widths = [size[0] for size in sizes]\n",
    "heights = [size[1] for size in sizes]\n",
    "plt.hist(widths, bins=20, alpha=0.5, label=\"Width\")\n",
    "plt.hist(heights, bins=20, alpha=0.5, label=\"Height\")\n",
    "plt.legend()\n",
    "plt.xlabel(\"Size (pixels)\")\n",
    "plt.ylabel(\"Count\")\n",
    "plt.title(\"Distribution of Image Sizes\")\n",
    "plt.show()"
   ]
  },
  {
   "cell_type": "markdown",
   "id": "1eface97-2a50-4f17-a5dd-58e0a6c79163",
   "metadata": {},
   "source": [
    "# Ethical Assessment\n",
    "\n",
    "# A. Data Collection\n",
    "A.1 Informed consent: If there are human subjects, have they given informed consent, where subjects affirmatively opt-in and have a clear understanding of the data uses to which they consent?\n",
    "\n",
    "#### Informed consent should be obtained in writing and should include a clear explanation of what the individual is agreeing to and what their rights are.\n",
    "#### Our dataset includes xray images, and the dataset is extracted from Kaggle.  While getting the dataset from Kaggle we have not got any personal information, hence privacy and confidentiality of the data is implemented.\n",
    "\n",
    " A.2 Collection bias: Have we considered sources of bias that could be introduced during data collection and survey design and taken steps to mitigate those?\n",
    "\n",
    "#### To minimize collection bias in X-ray image datasets, it's important to ensure that the dataset is diverse and representative of the population that the model will be used on. This can be done by collecting X-rays from a variety of individuals, including those with different ages, ethnicities, and medical histories. We don’t have much of these information.\n",
    "\n",
    "A.3 Limit PII exposure: Have we considered ways to minimize exposure of personally identifiable information (PII) for example through anonymization or not collecting information that isn’t relevant for analysis?\n",
    "\n",
    "\n",
    "#### Due to the lack of any such information on the data sources, the dataset does not reveal any personally identifying information. During the extraction of images the privacy of data providers was respected.\n",
    "\n",
    "A.4 Downstream bias mitigation: Have we considered ways to enable testing downstream results for biased outcomes (e.g., collecting data on protected group status like race or gender)?\n",
    "\n",
    "#### Downstream bias refers to the biases that are introduced into machine learning models during the training, validation, or testing phase. This type of bias can result in models that perform poorly on certain populations or demographics, and can limit the usefulness of the models for real-world applications.\n",
    "\n",
    "# B. Data Storage\n",
    "B.1 Data security: Do we have a plan to protect and secure data (e.g., encryption at rest and in transit, access controls on internal users and third parties, access logs, and up-to-date software)?\n",
    "\n",
    "#### The group is aware of how crucial it is to handle the photos that were retrieved with care for the purposes of this research. The team members will ensure that only the five other members of the group have access to or utilise the data by keeping access restricted to themselves only. \n",
    "\n",
    "B.2 Right to be forgotten: Do we have a mechanism through which an individual can request their personal information be removed?\n",
    "\n",
    "#### We don’t have any personal information.\n",
    "B.3 Data retention plan: Is there a schedule or plan to delete the data after it is no longer needed?\n",
    "\n",
    "#### We are using the data only for project purpose. Hence, data will be removed from all our devices after our project is done.\n",
    "\n",
    "# C. Analysis\n",
    "C.1 Missing perspectives: Have we sought to address blindspots in the analysis through engagement with relevant stakeholders (e.g., checking assumptions and discussing implications with affected communities and subject matter experts)?\n",
    "\n",
    "N/A\n",
    "\n",
    "C.2 Dataset bias: Have we examined the data for possible sources of bias and taken steps to mitigate or address these biases (e.g., stereotype perpetuation, confirmation bias, imbalanced classes, or omitted confounding variables)?\n",
    "\n",
    "#### The distribution of the classes in our picture collection, which contains 7943 photos, is as follows: COVID - 4269, Normal - 3666. The statistics are obviously out of proportion. These photographs will be used to train a machine learning model, and the more examples the model sees, the better. Our model's performance would also be affected by how much of a certain class of photos we used to train it with in comparison to other classes.\n",
    "\n",
    "C.3 Honest representation: Are our visualizations, summary statistics, and reports designed to honestly represent the underlying data?\n",
    "\n",
    "#### The team has concentrated its efforts on accurately portraying the data in this data assessment in order to guide the project in the proper path rather than leading it wrong.\n",
    "\n",
    "C.4 Privacy in analysis: Have we ensured that data with PII are not used or displayed unless necessary for the analysis?\n",
    "\n",
    "#### There is no PII information to be used throughout the course of the project.\n",
    "C.5 Auditability: Is the process of generating the analysis well documented and reproducible if we discover issues in the future?\n",
    "\n",
    "#### The best possible documentation of the project's steps will be performed, including code with elaborative comments and adding notes to each method used to build the model.\n",
    "\n",
    "# D. Modeling\n",
    "\n",
    "We are currently working on modles for our dataset, to get an idea how the dataset can fit in the model. Trying to understand our dataset better.\n",
    "\n",
    "•\tD.1 Proxy discrimination: Have we ensured that the model does not rely on variables or proxies for variables that are unfairly discriminatory?\n",
    "\n",
    "•\t  D.2 Fairness across groups: Have we tested model results for fairness with respect to different affected groups (e.g., tested for disparate error rates)?\n",
    "\n",
    "•\t  D.3 Metric selection: Have we considered the effects of optimizing for our defined metrics and considered additional metrics?\n",
    "\n",
    "•\t  D.4 Explainability: Can we explain in understandable terms a decision the model made in cases where a justification is needed?\n",
    "\n",
    "•\t  D.5 Communicate bias: Have we communicated the shortcomings, limitations, and biases of the model to relevant stakeholders in ways that can be generally understood?\n"
   ]
  },
  {
   "cell_type": "markdown",
   "id": "6e5627c4-a071-4f81-8f30-0068c195b432",
   "metadata": {},
   "source": [
    "#### Ethical Assessment for data collection and usage**\n",
    "Data Science Ethics Checklist\n",
    "\n",
    "CONSENT: We are only utilising this data for research purposes, and we must cite or offer a link to this dataset as a reference. We did not obtain any personally identifiable information when extracting the dataset.\n",
    "\n",
    "CLARITY: We will not share this data with any business authority and will only use it for model training. \n",
    "\n",
    "CONSISTENCY: This dataset is reliable as refered from Kaggel.\n",
    "\n",
    "CONTROL: We have no control on this dataset as we refered this from Kaggle.\n",
    "\n",
    "CONSEQUENCES: There will no such consequences of this dataset and we are using this for study purpose"
   ]
  },
  {
   "cell_type": "code",
   "execution_count": null,
   "id": "e35976e0-c182-472e-b797-466c00cf399a",
   "metadata": {},
   "outputs": [],
   "source": []
  },
  {
   "cell_type": "markdown",
   "id": "07c57861-fd93-4a36-bc7c-9376cfa5cfdb",
   "metadata": {},
   "source": [
    "# FORECASTING USING ARIMA MODEL"
   ]
  },
  {
   "cell_type": "markdown",
   "id": "0b0e94e0-67c4-4e09-990e-ac0b76137cfb",
   "metadata": {},
   "source": []
  },
  {
   "cell_type": "code",
   "execution_count": null,
   "id": "45052ddf-e7d8-4a4f-9411-7e61075fbf85",
   "metadata": {},
   "outputs": [],
   "source": [
    "import numpy as np\n",
    "import pandas as pd\n",
    "from statsmodels.tsa.holtwinters import ExponentialSmoothing\n",
    "import plotly.express as px\n",
    "import pandas as pd\n",
    "import numpy as np\n",
    "import itertools\n",
    "import seaborn as sns\n",
    "import matplotlib.pyplot as plt\n",
    "%matplotlib inline\n",
    "import plotly.express as px\n",
    "import statsmodels.api as sm\n",
    "from statsmodels.tsa.stattools import adfuller, acf, pacf,arma_order_select_ic\n",
    "from statsmodels.graphics.tsaplots import plot_acf, plot_pacf\n",
    "from statsmodels.tsa.arima_model import ARIMA\n",
    "from sklearn.model_selection import train_test_split\n",
    "import warnings\n",
    "warnings.simplefilter('ignore')"
   ]
  },
  {
   "cell_type": "markdown",
   "id": "deb2359f-7ee4-43c0-bb04-6d363b49f286",
   "metadata": {},
   "source": [
    "# **Load Dataset**"
   ]
  },
  {
   "cell_type": "code",
   "execution_count": null,
   "id": "6786d1fc-f1b8-4e70-92c9-a6bdb52555d1",
   "metadata": {},
   "outputs": [],
   "source": [
    "df= pd.read_csv(\"C:\\\\Users\\\\almei\\\\Downloads\\\\cleaned_data.csv\")\n",
    "\n",
    "\n",
    "train, test = train_test_split(df, test_size=0.2)\n",
    "\n",
    "#train =df[1:6552].values\n",
    "#test=df[6553:7272].values\n",
    "#train= pd.read_csv(\"cleaned_data.csv\")\n",
    "#test=pd.read_csv(\"cleaned_data.csv\")\n",
    "\n",
    "# Fit Exponential Smoothing model\n",
    "model = ExponentialSmoothing(train['Total deaths'].values)\n",
    "model_fit = model.fit()"
   ]
  },
  {
   "cell_type": "code",
   "execution_count": null,
   "id": "44dccdac-ea55-41d5-8045-e406b1452e1f",
   "metadata": {},
   "outputs": [],
   "source": [
    "print(model_fit.summary())"
   ]
  },
  {
   "cell_type": "code",
   "execution_count": null,
   "id": "47c200f6-6f2c-452f-b98b-386a809ccff5",
   "metadata": {},
   "outputs": [],
   "source": [
    "train.head()"
   ]
  },
  {
   "cell_type": "code",
   "execution_count": null,
   "id": "7ee5b873-ad1b-472b-b59e-a4af22ce3068",
   "metadata": {},
   "outputs": [],
   "source": [
    "len(df) "
   ]
  },
  {
   "cell_type": "markdown",
   "id": "db090d83-e50b-415d-8b60-8dfa57e9be9d",
   "metadata": {},
   "source": [
    "**The above output shows that we have total 4681 rows.**\n",
    "\n",
    "**The column 'Total Cases’ and 'Total Deaths' contains significant information about the COVID cases. They will be useful to get details about the COVID**"
   ]
  },
  {
   "cell_type": "markdown",
   "id": "38ba9f81-7792-4577-8686-e5fcef0a3895",
   "metadata": {},
   "source": [
    "# Assesment of Data Quality\n"
   ]
  },
  {
   "cell_type": "code",
   "execution_count": null,
   "id": "3b9ae0ea-7539-4ada-89b9-be1b75824dcf",
   "metadata": {},
   "outputs": [],
   "source": [
    "# identifying issues in all the columns\n",
    "\n",
    "# Check for missing values\n",
    "missing_values = df.isnull().sum()\n",
    "print(missing_values)\n",
    "\n",
    "# Check for incorrect data types\n",
    "incorrect_dtypes = df.dtypes[df.dtypes == 'object']\n",
    "print(incorrect_dtypes)\n",
    "\n",
    "# Check for outliers\n",
    "outliers = df[(df > 3*df.std()).any(axis=1)].dropna(how='all')\n",
    "print(outliers)"
   ]
  },
  {
   "cell_type": "markdown",
   "id": "f320d4bf-c194-4602-9e98-5db5ac8b5c75",
   "metadata": {},
   "source": [
    "**Checking the completeness, accuracy, consistency, and uniformity of the data.**\n",
    "\n",
    "**Completeness:** Check if all the necessary fields have values. You can use the .isnull() method in Pandas to find missing values.\n",
    "\n",
    "**Accuracy:** Check if the values are correct. You can use regular expressions, data validation functions, or data profiling techniques to identify incorrect values.\n",
    "\n",
    "**Consistency:** Check if the data is consistent with the constraints and business rules. For example, you can check if the values in a date column are in the correct date format, or if the values in an total death column are positive numbers.\n",
    "\n",
    "**Uniformity:** Check if the data is uniform across all columns. For example, you can check if the values in a date  column are formatted in the same way."
   ]
  },
  {
   "cell_type": "markdown",
   "id": "9e961477-d7d2-4746-b943-15936a38313d",
   "metadata": {},
   "source": [
    "# **Data Validation**"
   ]
  },
  {
   "cell_type": "code",
   "execution_count": null,
   "id": "5c8b04ca-af5c-4b64-8ac2-c5e357b9ced2",
   "metadata": {},
   "outputs": [],
   "source": [
    "# Load the data into a Pandas data frame\n",
    "# Define the validation tests\n",
    "def validate_data(df):\n",
    "    # Check if all required columns are present\n",
    "    required_columns = ['Total Cases', 'Total deaths']\n",
    "    missing_columns = [col for col in required_columns if col not in df.columns]\n",
    "    assert not missing_columns, f\"The following columns are missing: {missing_columns}\"\n",
    "\n",
    "    # Check if all values in 'column1' are positive\n",
    "    assert (df['Total Cases'] >= 0).all(), \"Values in 'Total Cases' should be positive\"\n",
    "\n",
    "    # Check if all values in 'column2' are within a specific range\n",
    "    min_value = 0\n",
    "    max_value = 99999999\n",
    "    assert ((df['Total deaths'] >= min_value) & (df['Total deaths'] <= max_value)).all(), \\\n",
    "           f\"Values in 'Total deaths' should be between {min_value} and {max_value}\"\n",
    "\n",
    "    # Check if all values in 'column3' are unique\n",
    "    # assert df['Continent'].is_unique, \"Values in 'Continent' should not be unique\"\n",
    "\n",
    "# Run the validation tests\n",
    "validate_data(df)\n",
    "\n",
    "# If all tests pass, the code will continue to run\n",
    "print(\"Data validation passed successfully!\")"
   ]
  },
  {
   "cell_type": "markdown",
   "id": "beb9d47a-4864-4fa9-8ec1-ae0d90c2d5d8",
   "metadata": {},
   "source": [
    "**The output above shows all the records are in the range we specified. Let’s have a look at the dataframe summary to check the same.**\n"
   ]
  },
  {
   "cell_type": "markdown",
   "id": "e7dab2ec-702b-46fc-bdb6-e04bf2d19ba7",
   "metadata": {},
   "source": [
    "# **Data Fitness**"
   ]
  },
  {
   "cell_type": "code",
   "execution_count": null,
   "id": "c5c6a34e-084e-4fdf-a9ee-f5d729e23234",
   "metadata": {},
   "outputs": [],
   "source": [
    "# Get a quick summary of the data\n",
    "summary = df.describe()\n",
    "\n",
    "print(summary)\n",
    "\n",
    "# Get a quick overview of the data\n",
    "overview = df.info()\n",
    "\n",
    "print(overview)"
   ]
  },
  {
   "cell_type": "markdown",
   "id": "bb9a0ad4-1e7b-478f-97b8-728b064582b3",
   "metadata": {},
   "source": [
    "#**Data fitness for answering research questions**\n",
    "\n",
    "---\n",
    "\n",
    "\n",
    "\n",
    "#1. Which machine learning timeseries Model works best for forecasting Covid-19 cases?\n",
    "\n",
    "As if now, we have used two models i.e., ARIMA and Holt Winters Method. \n",
    "\n",
    "**Holt-Winters Method:** The Holt-Winters method is an extension of exponential smoothing that considers trends in the data. \n",
    "It uses a weighted average of past observations, as well as a smoothed estimate of the trend, to make predictions about future observations.\n",
    "\n",
    "**ARIMA:** AutoRegressive Integrated Moving Average is a popular model for time series forecasting.\n",
    "It models the dependencies between an observation and a residual error, and the dependencies between residual errors at prior time steps.\n",
    "\n",
    "**To say which Model is best is too early as we are doing still working on it.**\n",
    "\n",
    "#2. Does the required data in the dataset is enough to make a forecasting of COVID-19?\n",
    "Yes, in the dataset, we have enough number of information, which we can use in predicting the COVID-19 cases, deaths etc other important details.\n",
    "We have data from 2019 till 2022, by which we can predict the COVID-19 trend in upcoming year i.e.2023\n",
    "\n",
    "#3. Dataset having valid data, without null or outliers?\n",
    "Yes, dataset is free from null values and outliers, as validated above.\n",
    "\n",
    "\n",
    "\n"
   ]
  },
  {
   "cell_type": "markdown",
   "id": "6977f57a-76da-4ccd-91ea-cb9488fd6e51",
   "metadata": {},
   "source": [
    "#**Ethical Assessment for data collection and usage**\n",
    "**Data Science Ethics Checklist**\n",
    "\n",
    "**CONSENT:**We are using this data only for the study purpose for that we must do citing or provide like to this dataset as a reference.We have not retrieved any personal information while extracting the forecasting timeseries dataset and the usage is very clear as well.\n",
    "\n",
    "**CLARITY:**We are using this data only for model training and we are not going to share this data with any commercial authority or farm. \n",
    "\n",
    "**CONSISTENCY:**This dataset is reliable as refered from Kaggel.\n",
    "\n",
    "**CONTROL:** We have no control on this dataset as we refered this from Kaggle.\n",
    "\n",
    "**CONSEQUENCES:**There will no such consequences of this dataset and we are using this for study purpose."
   ]
  },
  {
   "cell_type": "markdown",
   "id": "ba84d705-dee0-4c63-9585-7c68979306b9",
   "metadata": {},
   "source": [
    "# **EDA Begins**"
   ]
  },
  {
   "cell_type": "code",
   "execution_count": null,
   "id": "0c794a7a-f414-4de9-b09d-bde08b9d75ef",
   "metadata": {},
   "outputs": [],
   "source": [
    "df = train.fillna('NA').groupby(['Continent','Location','Date'])['Total Cases'].sum() \\\n",
    "                          .groupby(['Continent','Location']).max().sort_values() \\\n",
    "                          .groupby(['Continent']).sum().sort_values(ascending = False)\n",
    "\n",
    "top10 = pd.DataFrame(df).head(10)\n",
    "top10"
   ]
  },
  {
   "cell_type": "code",
   "execution_count": null,
   "id": "41da8857-3f2c-4ed3-b913-3f30fd84b57a",
   "metadata": {},
   "outputs": [],
   "source": [
    "train.sample(6)"
   ]
  },
  {
   "cell_type": "code",
   "execution_count": null,
   "id": "265def64-94f2-4697-ad44-2f841b90b881",
   "metadata": {},
   "outputs": [],
   "source": [
    "test.sample(6)"
   ]
  },
  {
   "cell_type": "code",
   "execution_count": null,
   "id": "c58e2aa8-ca80-48b0-9700-224ed92285f4",
   "metadata": {},
   "outputs": [],
   "source": [
    "df = train.fillna('NA').groupby(['Continent','Location','Date'])['Total Cases'].sum() \\\n",
    "                          .groupby(['Continent','Location']).max().sort_values() \\\n",
    "                          .groupby(['Continent']).sum().sort_values(ascending = False)\n",
    "\n",
    "top10 = pd.DataFrame(df).head(10)\n",
    "top10"
   ]
  },
  {
   "cell_type": "code",
   "execution_count": null,
   "id": "5eca708a-0ab6-4f30-a891-a6e5af329ef1",
   "metadata": {},
   "outputs": [],
   "source": [
    "fig = px.bar(top10, x=top10.index, y='Total Cases', labels={'x':'Continent'},\n",
    "             color=\"Total Cases\", color_continuous_scale=px.colors.sequential.Brwnyl)\n",
    "fig.update_layout(title_text='Total COVID-19 cases by Continent')\n",
    "fig.show()"
   ]
  },
  {
   "cell_type": "markdown",
   "id": "e688cadf-08f6-4590-9fdd-d4f1d51f3282",
   "metadata": {},
   "source": [
    "**From the above graph, we can say that Africa has most Total cases and followed by Europe. The virus has began at China but virus is showing a greater impact on Africa and Europe and Asia**"
   ]
  },
  {
   "cell_type": "code",
   "execution_count": null,
   "id": "dec85c1c-693b-46e6-8149-c10e0dbb03be",
   "metadata": {},
   "outputs": [],
   "source": [
    "df_by_date = pd.DataFrame(train.fillna('NA').groupby(['Continent','Date'])['Total Cases'].sum().sort_values().reset_index())\n",
    "\n",
    "fig = px.bar(df_by_date.loc[(df_by_date['Continent'] == 'Africa') &(df_by_date.Date >= '2020-03-01')].sort_values('Total Cases',ascending = False), \n",
    "             x='Date', y='Total Cases', color=\"Total Cases\", color_continuous_scale=px.colors.sequential.BuGn)\n",
    "fig.update_layout(title_text='Total COVID-19 cases per day in Africa')\n",
    "fig.show()"
   ]
  },
  {
   "cell_type": "code",
   "execution_count": null,
   "id": "7b05f37d-1a14-45e3-a661-212c5f0f3150",
   "metadata": {},
   "outputs": [],
   "source": [
    "df_by_date = pd.DataFrame(train.fillna('NA').groupby(['Continent','Date'])['Total Cases'].sum().sort_values().reset_index())\n",
    "\n",
    "fig = px.bar(df_by_date.loc[(df_by_date['Continent'] == 'Europe') &(df_by_date.Date >= '2020-03-01')].sort_values('Total Cases',ascending = False), \n",
    "             x='Date', y='Total Cases', color=\"Total Cases\", color_continuous_scale=px.colors.sequential.BuGn)\n",
    "fig.update_layout(title_text='Total COVID-19 cases per day in Europe')\n",
    "fig.show()"
   ]
  },
  {
   "cell_type": "markdown",
   "id": "09859897-a662-47d4-ae96-97af1f1ce0d0",
   "metadata": {},
   "source": [
    "df=train.groupby(['Date','Continent']).agg('sum').reset_index()\n",
    "df.tail(5)"
   ]
  },
  {
   "cell_type": "markdown",
   "id": "e940e8c2-2bb4-4c5c-9e6d-5232bfd4a4b4",
   "metadata": {},
   "source": [
    "# **Evolution of cases with time**"
   ]
  },
  {
   "cell_type": "code",
   "execution_count": null,
   "id": "1eb861a4-b6c2-4e2c-9d43-e41011dbbded",
   "metadata": {},
   "outputs": [],
   "source": [
    "df.head()"
   ]
  },
  {
   "cell_type": "code",
   "execution_count": null,
   "id": "d733a4f3-6682-4d42-a328-52a968462b76",
   "metadata": {},
   "outputs": [],
   "source": [
    "df=train.groupby(['Date','Continent']).agg('sum').reset_index()\n",
    "df.tail(5)"
   ]
  },
  {
   "cell_type": "code",
   "execution_count": null,
   "id": "715b7a51-49ce-4735-b43c-3b4f91ec34fa",
   "metadata": {},
   "outputs": [],
   "source": [
    "def pltCountry_cases(Total_Cases,*argv):\n",
    "    f, ax=plt.subplots(figsize=(16,5))\n",
    "    labels=argv\n",
    "    for a in argv: \n",
    "        country=df.loc[(df['Continent']==a)]\n",
    "        plt.plot(country['Date'],country['Total Cases'],linewidth=3)\n",
    "        plt.xticks(rotation=40)\n",
    "        plt.legend(labels)\n",
    "        ax.set(title='Evolution of the number of cases')"
   ]
  },
  {
   "cell_type": "code",
   "execution_count": null,
   "id": "1fc67ebe-10ff-47ae-9527-2176692a8451",
   "metadata": {},
   "outputs": [],
   "source": [
    "pltCountry_cases('Total_Cases','Africa')\n"
   ]
  },
  {
   "cell_type": "code",
   "execution_count": null,
   "id": "811c8ca4-522a-4c3a-8f9f-882b6efe770d",
   "metadata": {},
   "outputs": [],
   "source": [
    "pltCountry_cases('Total_Cases','Africa','South America', 'Europe', 'North America', 'Asia')\n",
    "\n"
   ]
  },
  {
   "cell_type": "code",
   "execution_count": null,
   "id": "0850fc46-917a-4dbe-bd7d-292396a38d0a",
   "metadata": {},
   "outputs": [],
   "source": [
    "df.describe()"
   ]
  },
  {
   "cell_type": "code",
   "execution_count": null,
   "id": "c2cec5b0-27df-4546-98b8-9ae5c9010977",
   "metadata": {},
   "outputs": [],
   "source": [
    "# Create datetime column for plotting through time.\n",
    "df['datetime_date'] = pd.to_datetime(df['Date'], format='%Y-%m-%d')\n",
    "\n",
    "# Create list of interesting locations \n",
    "regions = [\"Africa\", \"Asia\", \"Europe\", \"North America\", \"Oceania\", \"World\"]\n",
    "temp_data = df[df['Continent'].isin(regions)]\n",
    "\n",
    "# Initiate figure and plot\n",
    "fig, ax = plt.subplots(figsize = (40,15))\n",
    "ax = sns.lineplot(data=temp_data, x=\"datetime_date\", y=\"total vaccinations\", hue=\"Continent\")\n",
    "\n",
    "# Axis and formatting\n",
    "ax.set_title(\"Lineplot to show the total vaccinations over time, across six different georgraphical regions\", fontsize = 20)\n",
    "ax.set_xlabel(\"Date\", fontsize = 20)\n",
    "ax.set_ylabel(\"Total Vaccinations\", fontsize = 20)\n",
    "\n",
    "ax.legend(loc=\"best\", fontsize=20)"
   ]
  },
  {
   "cell_type": "code",
   "execution_count": null,
   "id": "1fcc5590-9c4d-4fcc-ba3c-54afb611ce23",
   "metadata": {},
   "outputs": [],
   "source": [
    "import plotly.express as px\n",
    "import plotly.graph_objects as go\n",
    "from plotly.subplots import make_subplots\n",
    "\n",
    "\n",
    "confirmed = df.groupby('Date').sum()['Total Cases'].reset_index()\n",
    "Deaths = df.groupby('Date').sum()['Total deaths'].reset_index()\n",
    "\n",
    "fig = go.Figure()\n",
    "fig.add_trace(go.Bar(x=confirmed['Date'],\n",
    "                y=confirmed['Total Cases'],\n",
    "                name='Confirmed',\n",
    "                marker_color='blue'\n",
    "                ))\n",
    "fig.add_trace(go.Bar(x=Deaths['Date'],\n",
    "                y=Deaths['Total deaths'],\n",
    "                name='Deaths',\n",
    "                marker_color='Red'\n",
    "                ))\n",
    "\n",
    "\n",
    "fig.update_layout(\n",
    "    title='Worldwide Corona Virus Cases - Confirmed, Deaths (Bar Chart)',\n",
    "    xaxis_tickfont_size=14,\n",
    "    yaxis=dict(\n",
    "        title='Number of Cases',\n",
    "        titlefont_size=16,\n",
    "        tickfont_size=14,\n",
    "    ),\n",
    "    legend=dict(\n",
    "        x=0,\n",
    "        y=1.0,\n",
    "        bgcolor='rgba(255, 255, 255, 0)',\n",
    "        bordercolor='rgba(255, 255, 255, 0)'\n",
    "    ),\n",
    "    barmode='group',\n",
    "    bargap=0.15, # gap between bars of adjacent location coordinates.\n",
    "    bargroupgap=0.1 # gap between bars of the same location coordinate.\n",
    ")\n",
    "fig.show()"
   ]
  },
  {
   "cell_type": "code",
   "execution_count": null,
   "id": "83cab1cc-008f-466d-b861-10a3cca3adeb",
   "metadata": {},
   "outputs": [],
   "source": []
  },
  {
   "cell_type": "code",
   "execution_count": null,
   "id": "fa933179-feec-4e49-a54d-fadfb11d7672",
   "metadata": {},
   "outputs": [],
   "source": []
  },
  {
   "cell_type": "code",
   "execution_count": null,
   "id": "df30cc24-99f8-4370-9cd8-1a192f62acd0",
   "metadata": {},
   "outputs": [],
   "source": []
  }
 ],
 "metadata": {
  "kernelspec": {
   "display_name": "Python 3 (ipykernel)",
   "language": "python",
   "name": "python3"
  },
  "language_info": {
   "codemirror_mode": {
    "name": "ipython",
    "version": 3
   },
   "file_extension": ".py",
   "mimetype": "text/x-python",
   "name": "python",
   "nbconvert_exporter": "python",
   "pygments_lexer": "ipython3",
   "version": "3.9.7"
  }
 },
 "nbformat": 4,
 "nbformat_minor": 5
}
