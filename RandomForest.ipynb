{
  "nbformat": 4,
  "nbformat_minor": 0,
  "metadata": {
    "colab": {
      "provenance": []
    },
    "kernelspec": {
      "name": "python3",
      "display_name": "Python 3"
    },
    "language_info": {
      "name": "python"
    }
  },
  "cells": [
    {
      "cell_type": "code",
      "execution_count": null,
      "metadata": {
        "id": "IN2lCX4IEgIK"
      },
      "outputs": [],
      "source": [
        "import sklearn\n",
        "from sklearn.ensemble import RandomForestRegressor"
      ]
    },
    {
      "cell_type": "code",
      "source": [
        "import numpy as np\n",
        "import pandas as pd\n",
        "import matplotlib.pyplot as plt"
      ],
      "metadata": {
        "id": "WKFG92QBHeJZ"
      },
      "execution_count": null,
      "outputs": []
    },
    {
      "cell_type": "code",
      "source": [
        "from google.colab import drive\n",
        "\n",
        "drive.mount('/content/drive')\n",
        "\n",
        "path = \"/content/drive/MyDrive/Colab Notebooks/cleaned_data.csv\"\n",
        "df= pd.read_csv(path)"
      ],
      "metadata": {
        "colab": {
          "base_uri": "https://localhost:8080/"
        },
        "id": "KK_R9BvYKbFw",
        "outputId": "84c51bf7-1a05-4d26-f4a3-887f750b93c7"
      },
      "execution_count": null,
      "outputs": [
        {
          "output_type": "stream",
          "name": "stdout",
          "text": [
            "Mounted at /content/drive\n"
          ]
        }
      ]
    },
    {
      "cell_type": "code",
      "source": [
        "df=df.dropna()\n",
        "df"
      ],
      "metadata": {
        "id": "YTXiPYCpLi1F"
      },
      "execution_count": null,
      "outputs": []
    },
    {
      "cell_type": "code",
      "source": [
        "plt.rcParams['figure.figsize'] = [10, 10]\n",
        "df.plot(x=\"Date\",y=\"Total deaths\")\n",
        "plt.xticks(rotation=45)\n"
      ],
      "metadata": {
        "colab": {
          "base_uri": "https://localhost:8080/",
          "height": 856
        },
        "id": "HOuB9dbYLrZ7",
        "outputId": "cd53846c-95ef-4201-e291-961138888f59"
      },
      "execution_count": null,
      "outputs": [
        {
          "output_type": "execute_result",
          "data": {
            "text/plain": [
              "(array([-25000.,      0.,  25000.,  50000.,  75000., 100000., 125000.,\n",
              "        150000., 175000.]),\n",
              " [Text(-25000.0, 0, '2021-02-10'),\n",
              "  Text(0.0, 0, '2020-02-24'),\n",
              "  Text(25000.0, 0, '2020-06-02'),\n",
              "  Text(50000.0, 0, '2021-11-26'),\n",
              "  Text(75000.0, 0, '2020-06-24'),\n",
              "  Text(100000.0, 0, '2020-05-07'),\n",
              "  Text(125000.0, 0, '2021-07-08'),\n",
              "  Text(150000.0, 0, '2020-08-24'),\n",
              "  Text(175000.0, 0, '')])"
            ]
          },
          "metadata": {},
          "execution_count": 32
        },
        {
          "output_type": "display_data",
          "data": {
            "text/plain": [
              "<Figure size 720x720 with 1 Axes>"
            ],
            "image/png": "[encoded data removed]"
          },
          "metadata": {
            "needs_background": "light"
          }
        }
      ]
    },
    {
      "cell_type": "code",
      "source": [
        "model = RandomForestRegressor()"
      ],
      "metadata": {
        "id": "kkfwIK6yN6wo"
      },
      "execution_count": null,
      "outputs": []
    },
    {
      "cell_type": "code",
      "source": [
        "#train the model\n",
        "\n",
        "X=df[['Total Cases','New Cases','New deaths','reproduction rate','new tests','total tests','total boosters','total vaccinations','hosp patients','icu patients','positive rate','people vaccinated','people fully vaccinated','total boosters','population'\n",
        ",'population density','median age','cardiovasc death rate','diabetes prevalence','female smokers','male smokers','aged 65 older','aged 70 older','extreme poverty','life expectancy']]\n",
        "\n",
        "X = X[:int(len(df)-1)]\n",
        "\n",
        "y = df['Total deaths']\n",
        "\n",
        "y = y[:int(len(df)-1)]\n",
        "\n",
        "model.fit(X,y) #training the model"
      ],
      "metadata": {
        "colab": {
          "base_uri": "https://localhost:8080/"
        },
        "id": "mnjNro5BOAC3",
        "outputId": "2ed9c99d-3b43-4949-80d8-570247a88810"
      },
      "execution_count": null,
      "outputs": [
        {
          "output_type": "execute_result",
          "data": {
            "text/plain": [
              "RandomForestRegressor()"
            ]
          },
          "metadata": {},
          "execution_count": 55
        }
      ]
    },
    {
      "cell_type": "code",
      "source": [
        "#test model\n",
        "predictions = model.predict(X)\n",
        "print('The model score is:', model.score(X,y))"
      ],
      "metadata": {
        "colab": {
          "base_uri": "https://localhost:8080/"
        },
        "id": "0_P52SlKQvia",
        "outputId": "720cd6fd-5912-4306-c483-62b138ea17dc"
      },
      "execution_count": null,
      "outputs": [
        {
          "output_type": "stream",
          "name": "stdout",
          "text": [
            "The model score is: 0.9999900506301401\n"
          ]
        }
      ]
    },
    {
      "cell_type": "code",
      "source": [
        "# make the predictions\n",
        "new_data=df[['Total Cases','New Cases','New deaths','reproduction rate','new tests','total tests','total boosters','total vaccinations','hosp patients','icu patients','positive rate','people vaccinated','people fully vaccinated','total boosters','population'\n",
        ",'population density','median age','cardiovasc death rate','diabetes prevalence','female smokers','male smokers','aged 65 older','aged 70 older','extreme poverty','life expectancy']].tail(1)\n",
        "prediction = model.predict(new_data)\n",
        "\n",
        "print('The model predicts the last row of total death:', prediction)\n",
        "print('Actual Total death is:',df[['Total deaths']].tail(1).values[0][0] )\n",
        "\n"
      ],
      "metadata": {
        "colab": {
          "base_uri": "https://localhost:8080/"
        },
        "id": "u3GSCzyBRCz3",
        "outputId": "e799d2de-5ec7-4b86-c1c8-1f9211ca361f"
      },
      "execution_count": null,
      "outputs": [
        {
          "output_type": "stream",
          "name": "stdout",
          "text": [
            "The model predicts the last row of total death: [5179.74]\n",
            "Actual Total death is: 5397\n"
          ]
        }
      ]
    }
  ]
}